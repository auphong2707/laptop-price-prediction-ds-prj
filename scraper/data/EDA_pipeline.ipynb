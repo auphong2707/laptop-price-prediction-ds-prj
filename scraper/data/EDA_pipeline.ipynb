{
 "cells": [
  {
   "cell_type": "markdown",
   "metadata": {},
   "source": [
    "Dataset loader"
   ]
  },
  {
   "cell_type": "code",
   "execution_count": 1,
   "metadata": {},
   "outputs": [
    {
     "name": "stdout",
     "output_type": "stream",
     "text": [
      "    source brand                                              name  \\\n",
      "0  phongvu  asus         laptop asus zenbook s 14 ux5406sa-pv140ws   \n",
      "1  phongvu  asus         laptop asus rog zephyrus g16 ga605wi 2024   \n",
      "2  phongvu  asus      laptop asus vivobook 15x oled m3504ya-l1268w   \n",
      "3  phongvu  acer  laptop acer predator helios neo 14 phn14-51-96hg   \n",
      "4  phongvu  asus                   laptop asus tuf gaming a14 2024   \n",
      "\n",
      "                       cpu               vga  ram_amount ram_type  \\\n",
      "0  intel core ultra 7 258v               NaN        32.0     ddr5   \n",
      "1    amd ryzen ai 9 hx 370  geforce rtx 4070        16.0     ddr5   \n",
      "2        amd ryzen 5 7530u               NaN        16.0     ddr4   \n",
      "3  intel core ultra 9 185h  geforce rtx 4070        32.0     ddr5   \n",
      "4    amd ryzen ai 9 hx 370  geforce rtx 4060         8.0     ddr5   \n",
      "\n",
      "   storage_amount storage_type webcam_resolution  ...  warranty       price  \\\n",
      "0          1024.0          ssd               yes  ...      24.0  43790000.0   \n",
      "1          1024.0          ssd               yes  ...      24.0  76990000.0   \n",
      "2           512.0          ssd               yes  ...      24.0  14990000.0   \n",
      "3          1024.0          ssd               yes  ...      12.0  58390000.0   \n",
      "4          1024.0          ssd               yes  ...      24.0  42390000.0   \n",
      "\n",
      "   width  depth height number_usb_a_ports  number_usb_c_ports  \\\n",
      "0  31.03  21.47   1.19                0.0                 1.0   \n",
      "1  35.40  24.60   1.49                0.0                 2.0   \n",
      "2  35.97  23.25   1.79                0.0                 1.0   \n",
      "3  32.41  25.54   1.95                0.0                 2.0   \n",
      "4  31.10  22.70   1.69                0.0                 2.0   \n",
      "\n",
      "  number_hdmi_ports  number_ethernet_ports  number_audio_jacks  \n",
      "0               1.0                    0.0                 0.0  \n",
      "1               1.0                    0.0                 0.0  \n",
      "2               1.0                    0.0                 0.0  \n",
      "3               1.0                    0.0                 0.0  \n",
      "4               1.0                    0.0                 0.0  \n",
      "\n",
      "[5 rows x 28 columns]\n"
     ]
    }
   ],
   "source": [
    "import pandas as pd\n",
    "\n",
    "# Specify the path to your CSV file\n",
    "file_path = 'phongvu_data.csv'\n",
    "\n",
    "# Load the CSV file into a DataFrame\n",
    "data = pd.read_csv(file_path)\n",
    "\n",
    "print(data.head())"
   ]
  },
  {
   "cell_type": "markdown",
   "metadata": {},
   "source": [
    "Checking up the statistics"
   ]
  },
  {
   "cell_type": "code",
   "execution_count": 4,
   "metadata": {},
   "outputs": [
    {
     "name": "stdout",
     "output_type": "stream",
     "text": [
      "count    6.300000e+02\n",
      "mean     3.211146e+07\n",
      "std      2.215613e+07\n",
      "min      9.490000e+06\n",
      "25%      1.799000e+07\n",
      "50%      2.454000e+07\n",
      "75%      3.744000e+07\n",
      "max      1.823900e+08\n",
      "Name: price, dtype: float64\n"
     ]
    }
   ],
   "source": [
    "def column_statistics(df, column_name):\n",
    "    return df[column_name].describe()\n",
    "\n",
    "stats = column_statistics(data, 'price')\n",
    "print(stats)\n"
   ]
  },
  {
   "cell_type": "code",
   "execution_count": 5,
   "metadata": {},
   "outputs": [
    {
     "name": "stdout",
     "output_type": "stream",
     "text": [
      "source                     0\n",
      "brand                      2\n",
      "name                       0\n",
      "cpu                        4\n",
      "vga                      388\n",
      "ram_amount                 2\n",
      "ram_type                  68\n",
      "storage_amount             2\n",
      "storage_type               2\n",
      "webcam_resolution          0\n",
      "screen_size                2\n",
      "screen_resolution          2\n",
      "screen_refresh_rate      375\n",
      "screen_brightness        264\n",
      "battery_capacity          15\n",
      "battery_cells             69\n",
      "weight                     4\n",
      "default_os                 4\n",
      "warranty                   6\n",
      "price                      1\n",
      "width                      5\n",
      "depth                      5\n",
      "height                     5\n",
      "number_usb_a_ports         2\n",
      "number_usb_c_ports         2\n",
      "number_hdmi_ports          2\n",
      "number_ethernet_ports      2\n",
      "number_audio_jacks         2\n",
      "dtype: int64\n"
     ]
    }
   ],
   "source": [
    "def count_na_per_column(df):\n",
    "    return df.isna().sum()\n",
    "\n",
    "na_counts = count_na_per_column(data)\n",
    "print(na_counts)"
   ]
  },
  {
   "cell_type": "code",
   "execution_count": 6,
   "metadata": {},
   "outputs": [],
   "source": [
    "df0 = data"
   ]
  },
  {
   "cell_type": "markdown",
   "metadata": {},
   "source": [
    "Taking things from databases "
   ]
  },
  {
   "cell_type": "code",
   "execution_count": 7,
   "metadata": {},
   "outputs": [],
   "source": [
    "def fetch_cpu(name):\n",
    "    pass\n",
    "\n",
    "def fetch_vga(name):\n",
    "    pass"
   ]
  },
  {
   "cell_type": "markdown",
   "metadata": {},
   "source": [
    "Treating other things"
   ]
  },
  {
   "cell_type": "code",
   "execution_count": 13,
   "metadata": {},
   "outputs": [
    {
     "name": "stdout",
     "output_type": "stream",
     "text": [
      "0             laptop asus zenbook s 14 ux5406sa-pv140ws\n",
      "1             laptop asus rog zephyrus g16 ga605wi 2024\n",
      "2          laptop asus vivobook 15x oled m3504ya-l1268w\n",
      "3      laptop acer predator helios neo 14 phn14-51-96hg\n",
      "4                       laptop asus tuf gaming a14 2024\n",
      "                             ...                       \n",
      "626                      apple macbook pro m4 pro 14.2\"\n",
      "627                      apple macbook pro m4 pro 16.2\"\n",
      "628                      apple macbook pro m4 max 14.2\"\n",
      "629                          apple macbook pro m4 14.2\"\n",
      "630                      apple macbook pro m4 max 16.2\"\n",
      "Name: name, Length: 631, dtype: object 0      prestige\n",
      "1      prestige\n",
      "2      prestige\n",
      "3      prestige\n",
      "4      prestige\n",
      "         ...   \n",
      "626    prestige\n",
      "627    prestige\n",
      "628    prestige\n",
      "629    prestige\n",
      "630    prestige\n",
      "Name: category, Length: 631, dtype: object\n"
     ]
    }
   ],
   "source": [
    "import pandas as pd\n",
    "import re\n",
    "\n",
    "def classify_laptops_dynamic(df, column_name):\n",
    "    def classify(name):\n",
    "        # Normalize name to lowercase\n",
    "        name = name.lower()\n",
    "        \n",
    "        # Check if \"prestige\" is implied based on heuristics\n",
    "        # 1. Contains terms like \"gaming\", \"pro\", \"advanced\", \"predator\", \"stealth\"\n",
    "        if re.search(r'\\bgaming\\b|\\bpro\\b|\\badvanced\\b|\\bpredator\\b|\\brog\\b|\\bstealth\\b|\\bvictus\\b|\\bzenbook\\b', name):\n",
    "            return \"prestige\"\n",
    "        \n",
    "        # 2. Has more than 2 descriptive words (brand + series + 2+ terms)\n",
    "        words = name.split()\n",
    "        if len(words) > 5:\n",
    "            return \"prestige\"\n",
    "\n",
    "        # Default: \"normal\"\n",
    "        return \"normal\"\n",
    "    \n",
    "    # Apply the classification function to the specified column\n",
    "    df[\"category\"] = df[column_name].apply(classify)\n",
    "    return df\n",
    "\n",
    "# Example usage:\n",
    "# Assuming `laptops.csv` contains the data with a column \"LaptopName\"\n",
    "df1 = classify_laptops_dynamic(df0, \"name\")\n",
    "\n",
    "# Print the updated DataFrame\n",
    "print(df1[\"name\"], df1[\"category\"])\n"
   ]
  }
 ],
 "metadata": {
  "kernelspec": {
   "display_name": "Python 3",
   "language": "python",
   "name": "python3"
  },
  "language_info": {
   "codemirror_mode": {
    "name": "ipython",
    "version": 3
   },
   "file_extension": ".py",
   "mimetype": "text/x-python",
   "name": "python",
   "nbconvert_exporter": "python",
   "pygments_lexer": "ipython3",
   "version": "3.11.1"
  }
 },
 "nbformat": 4,
 "nbformat_minor": 2
}
